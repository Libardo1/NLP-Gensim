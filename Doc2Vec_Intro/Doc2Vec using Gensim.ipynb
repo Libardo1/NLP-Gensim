{
 "cells": [
  {
   "cell_type": "markdown",
   "metadata": {},
   "source": [
    "## Tutorial on how to use word2vec in gensim"
   ]
  },
  {
   "cell_type": "code",
   "execution_count": 30,
   "metadata": {
    "collapsed": false
   },
   "outputs": [],
   "source": [
    "from gensim.models import doc2vec\n",
    "import logging"
   ]
  },
  {
   "cell_type": "markdown",
   "metadata": {},
   "source": [
    "### Preparing the input"
   ]
  },
  {
   "cell_type": "code",
   "execution_count": 3,
   "metadata": {
    "collapsed": true
   },
   "outputs": [],
   "source": [
    "# import modules & set up logging\n",
    "logging.basicConfig(format='%(asctime)s : %(levelname)s : %(message)s', level=logging.INFO)\n",
    "\n",
    "sentences = [['first', 'sentence'], ['second', 'sentence']]\n",
    "# train word2vec on the two sentences\n",
    "model = gensim.models.Word2Vec(sentences, min_count=1)"
   ]
  },
  {
   "cell_type": "code",
   "execution_count": null,
   "metadata": {
    "collapsed": true
   },
   "outputs": [],
   "source": [
    "# for different texts if input stream is non-repeatable\n",
    "# model = gensim.models.Word2Vec() # an empty model, no training\n",
    "# model.build_vocab(some_sentences)  # can be a non-repeatable, 1-pass generator\n",
    "# model.train(other_sentences)  # can be a non-repeatable, 1-pass generator"
   ]
  },
  {
   "cell_type": "markdown",
   "metadata": {},
   "source": [
    "### Training"
   ]
  },
  {
   "cell_type": "code",
   "execution_count": 6,
   "metadata": {
    "collapsed": false
   },
   "outputs": [],
   "source": [
    "# prune vocab dictionary by ignoring very rare words\n",
    "#model = gensim.models.Word2Vec(sentences, min_count=10)"
   ]
  },
  {
   "cell_type": "markdown",
   "metadata": {},
   "source": [
    "### Using Model"
   ]
  },
  {
   "cell_type": "code",
   "execution_count": null,
   "metadata": {
    "collapsed": true
   },
   "outputs": [],
   "source": [
    "#model.most_similar(positive=['woman', 'king'], negative=['man'], topn=1)\n",
    "#[('queen', 0.50882536)]\n",
    "# model.doesnt_match(\"breakfast cereal dinner lunch\".split())\n",
    "#'cereal'\n",
    "# model.similarity('woman', 'man')\n",
    "#0.73723527\n",
    "# model['computer']  # raw NumPy vector of a word\n",
    "# array([-0.00449447, -0.00310097,  0.02421786, ...], dtype=float32)"
   ]
  },
  {
   "cell_type": "markdown",
   "metadata": {},
   "source": [
    "### Load Data"
   ]
  },
  {
   "cell_type": "code",
   "execution_count": 7,
   "metadata": {
    "collapsed": true
   },
   "outputs": [],
   "source": [
    "from os import listdir\n",
    "from os.path import isfile, join"
   ]
  },
  {
   "cell_type": "code",
   "execution_count": 8,
   "metadata": {
    "collapsed": false
   },
   "outputs": [
    {
     "data": {
      "text/plain": [
       "['.DS_Store',\n",
       " 'Berlin1.txt',\n",
       " 'Berlin2.txt',\n",
       " 'Berlin3.txt',\n",
       " 'Berlin4.txt',\n",
       " 'Berlin5.txt',\n",
       " 'NewYork1.txt',\n",
       " 'NewYork2.txt',\n",
       " 'NewYork3.txt',\n",
       " 'NewYork4.txt',\n",
       " 'NewYork5.txt']"
      ]
     },
     "execution_count": 8,
     "metadata": {},
     "output_type": "execute_result"
    }
   ],
   "source": [
    "listdir(\"TextCorpus\")"
   ]
  },
  {
   "cell_type": "code",
   "execution_count": 36,
   "metadata": {
    "collapsed": false
   },
   "outputs": [
    {
     "name": "stdout",
     "output_type": "stream",
     "text": [
      "['Berlin1.txt', 'Berlin2.txt', 'Berlin3.txt', 'Berlin4.txt', 'Berlin5.txt', 'NewYork1.txt', 'NewYork2.txt', 'NewYork3.txt', 'NewYork4.txt', 'NewYork5.txt']\n"
     ]
    }
   ],
   "source": [
    "textLabels = []\n",
    "textLabels = [f for f in listdir(\"TextCorpus\") if f.endswith('.txt')]\n",
    "print textLabels"
   ]
  },
  {
   "cell_type": "code",
   "execution_count": 59,
   "metadata": {
    "collapsed": true
   },
   "outputs": [],
   "source": [
    "data = []\n",
    "for text in textLabels:\n",
    "    f = open(\"TextCorpus/\" + text, 'r')\n",
    "    data.append(f.read())"
   ]
  },
  {
   "cell_type": "markdown",
   "metadata": {},
   "source": [
    "### Preparing the data for Gensim Doc2vec"
   ]
  },
  {
   "cell_type": "code",
   "execution_count": 77,
   "metadata": {
    "collapsed": true
   },
   "outputs": [],
   "source": [
    "class LabeledLineSentence(object):\n",
    "    def __init__(self, text_list, labels_list):\n",
    "        self.labels_list = labels_list\n",
    "        self.text_list = text_list\n",
    "    def __iter__(self):\n",
    "        for idx, text in enumerate(self.text_list):\n",
    "            yield doc2vec.LabeledSentence(text.split(), [self.labels_list[idx]])"
   ]
  },
  {
   "cell_type": "markdown",
   "metadata": {},
   "source": [
    "### Training the model"
   ]
  },
  {
   "cell_type": "code",
   "execution_count": 78,
   "metadata": {
    "collapsed": false
   },
   "outputs": [],
   "source": [
    "Sentences = LabeledLineSentence(data, textLabels)"
   ]
  },
  {
   "cell_type": "code",
   "execution_count": 109,
   "metadata": {
    "collapsed": false
   },
   "outputs": [],
   "source": [
    "# use fixed learning rate\n",
    "model = gensim.models.Doc2Vec(size=40, window=10, min_count=5, workers=11,alpha=0.025, min_alpha=0.025)"
   ]
  },
  {
   "cell_type": "code",
   "execution_count": 110,
   "metadata": {
    "collapsed": false
   },
   "outputs": [],
   "source": [
    "model.build_vocab(Sentences)"
   ]
  },
  {
   "cell_type": "code",
   "execution_count": 111,
   "metadata": {
    "collapsed": true
   },
   "outputs": [],
   "source": [
    "for _ in range(10):\n",
    "    model.train(Sentences)\n",
    "    model.alpha -= 0.002 # decreasing the learning rate\n",
    "    model.min_alpha = model.alpha\n",
    "    model.train(Sentences)"
   ]
  },
  {
   "cell_type": "code",
   "execution_count": 112,
   "metadata": {
    "collapsed": false
   },
   "outputs": [],
   "source": [
    "model.save(\"doc2vec.model\")"
   ]
  },
  {
   "cell_type": "code",
   "execution_count": 113,
   "metadata": {
    "collapsed": false
   },
   "outputs": [
    {
     "name": "stdout",
     "output_type": "stream",
     "text": [
      "[('City', 0.8016244769096375), ('at', 0.5614316463470459), ('area', 0.5085005164146423), ('their', 0.49119099974632263), ('States.', 0.46879851818084717), ('state.', 0.4626597464084625), ('C', 0.44130706787109375), ('with', 0.40370967984199524), ('or', 0.3933374285697937), ('than', 0.384970486164093)]\n"
     ]
    }
   ],
   "source": [
    "print model.most_similar(\"New\")"
   ]
  },
  {
   "cell_type": "code",
   "execution_count": 114,
   "metadata": {
    "collapsed": false
   },
   "outputs": [
    {
     "name": "stdout",
     "output_type": "stream",
     "text": [
      "[('Berlin.', 0.8318343162536621), ('C', 0.7524179220199585), ('an', 0.709546685218811), ('their', 0.6911014318466187), ('were', 0.6829645037651062), ('The', 0.6490375399589539), ('all', 0.6445956230163574), ('Germany,', 0.640369713306427), ('than', 0.5894448757171631), ('Battle', 0.5605651140213013)]\n"
     ]
    }
   ],
   "source": [
    "print model.most_similar(\"the\")"
   ]
  },
  {
   "cell_type": "code",
   "execution_count": 115,
   "metadata": {
    "collapsed": false
   },
   "outputs": [
    {
     "name": "stdout",
     "output_type": "stream",
     "text": [
      "[('Germany', 0.8650304079055786), ('West', 0.762969970703125), ('East', 0.7270813584327698), ('but', 0.6876924633979797), ('Republic', 0.6717215180397034), ('Germany,', 0.5637524127960205), ('as', 0.5467364192008972), ('a', 0.5360344052314758), ('its', 0.5218937397003174), ('Berlin.', 0.5196490287780762)]\n"
     ]
    }
   ],
   "source": [
    "print model.most_similar(\"Berlin\")"
   ]
  },
  {
   "cell_type": "code",
   "execution_count": 116,
   "metadata": {
    "collapsed": false
   },
   "outputs": [
    {
     "name": "stdout",
     "output_type": "stream",
     "text": [
      "[('only', 0.6900793313980103), ('most', 0.6829732656478882), ('at', 0.6787878274917603), ('largest', 0.659099817276001), ('Great', 0.6515200138092041), ('during', 0.6449869871139526), ('United', 0.6372557282447815), ('be', 0.6264005899429321), ('on', 0.6208404898643494), ('Iroquois', 0.5854104161262512)]\n"
     ]
    }
   ],
   "source": [
    "print model.most_similar('Hudson')"
   ]
  },
  {
   "cell_type": "code",
   "execution_count": 117,
   "metadata": {
    "collapsed": false
   },
   "outputs": [
    {
     "name": "stdout",
     "output_type": "stream",
     "text": [
      "[-0.02410355  0.01731708  0.03344956  0.00445156 -0.03585097 -0.10849235\n",
      " -0.09031273 -0.14000477 -0.04865702 -0.00177307 -0.06984299  0.09222768\n",
      " -0.01337598  0.09027207 -0.00017309 -0.05016653  0.10461748 -0.00132738\n",
      "  0.00335197  0.04781001  0.0302741   0.07161038  0.03542482  0.07597228\n",
      "  0.03054213  0.04453614  0.05662571 -0.06729747  0.06246189 -0.04098909\n",
      " -0.0585022  -0.10646819  0.06129624  0.0489495  -0.12531349 -0.1486468\n",
      "  0.05472993 -0.03053526 -0.0924937  -0.05409999]\n"
     ]
    }
   ],
   "source": [
    "print model[\"Berlin\"]"
   ]
  },
  {
   "cell_type": "code",
   "execution_count": null,
   "metadata": {
    "collapsed": true
   },
   "outputs": [],
   "source": []
  }
 ],
 "metadata": {
  "kernelspec": {
   "display_name": "Python 2",
   "language": "python",
   "name": "python2"
  },
  "language_info": {
   "codemirror_mode": {
    "name": "ipython",
    "version": 2
   },
   "file_extension": ".py",
   "mimetype": "text/x-python",
   "name": "python",
   "nbconvert_exporter": "python",
   "pygments_lexer": "ipython2",
   "version": "2.7.10"
  }
 },
 "nbformat": 4,
 "nbformat_minor": 0
}
